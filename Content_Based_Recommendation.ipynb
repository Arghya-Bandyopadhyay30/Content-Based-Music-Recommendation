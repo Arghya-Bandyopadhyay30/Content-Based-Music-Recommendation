{
  "cells": [
    {
      "cell_type": "markdown",
      "metadata": {
        "id": "view-in-github",
        "colab_type": "text"
      },
      "source": [
        "<a href=\"https://colab.research.google.com/github/Arghya-Bandyopadhyay30/Music-Recommendation-System/blob/main/Content_Based_Recommendation.ipynb\" target=\"_parent\"><img src=\"https://colab.research.google.com/assets/colab-badge.svg\" alt=\"Open In Colab\"/></a>"
      ]
    },
    {
      "cell_type": "markdown",
      "metadata": {
        "id": "OItNoFsBy2B3"
      },
      "source": [
        "### **Music Recommender System**\n",
        "\n",
        "**There are two main types of recommender systems:**\n",
        "1.   Content-Based Filters\n",
        "2.   Collaborative Filters"
      ]
    },
    {
      "cell_type": "code",
      "execution_count": 72,
      "metadata": {
        "id": "1GR2EWo1y2CB"
      },
      "outputs": [],
      "source": [
        "#Importing Basic Required Libraries\n",
        "import numpy as np\n",
        "import pandas as pd"
      ]
    },
    {
      "cell_type": "code",
      "source": [
        "#The dataset contains name, artist and lyrics for 57650 songs in English. \n",
        "data = pd.read_csv(\"songdata.csv\")\n",
        "\n",
        "data.head()"
      ],
      "metadata": {
        "colab": {
          "base_uri": "https://localhost:8080/",
          "height": 337
        },
        "id": "ONwpeOU34Hc5",
        "outputId": "a72d7d2d-c044-4f54-d249-04673d03f869"
      },
      "execution_count": 88,
      "outputs": [
        {
          "output_type": "execute_result",
          "data": {
            "text/plain": [
              "  artist                   song                                        link  \\\n",
              "0   ABBA  Ahe's My Kind Of Girl  /a/abba/ahes+my+kind+of+girl_20598417.html   \n",
              "1   ABBA       Andante, Andante       /a/abba/andante+andante_20002708.html   \n",
              "2   ABBA         As Good As New        /a/abba/as+good+as+new_20003033.html   \n",
              "3   ABBA                   Bang                  /a/abba/bang_20598415.html   \n",
              "4   ABBA       Bang-A-Boomerang      /a/abba/bang+a+boomerang_20002668.html   \n",
              "\n",
              "                                                text  \n",
              "0  Look at her face, it's a wonderful face  \\nAnd...  \n",
              "1  Take it easy with me, please  \\nTouch me gentl...  \n",
              "2  I'll never know why I had to go  \\nWhy I had t...  \n",
              "3  Making somebody happy is a question of give an...  \n",
              "4  Making somebody happy is a question of give an...  "
            ],
            "text/html": [
              "\n",
              "  <div id=\"df-d5ea76b7-df42-43a8-8c6d-5fce412aa8e4\">\n",
              "    <div class=\"colab-df-container\">\n",
              "      <div>\n",
              "<style scoped>\n",
              "    .dataframe tbody tr th:only-of-type {\n",
              "        vertical-align: middle;\n",
              "    }\n",
              "\n",
              "    .dataframe tbody tr th {\n",
              "        vertical-align: top;\n",
              "    }\n",
              "\n",
              "    .dataframe thead th {\n",
              "        text-align: right;\n",
              "    }\n",
              "</style>\n",
              "<table border=\"1\" class=\"dataframe\">\n",
              "  <thead>\n",
              "    <tr style=\"text-align: right;\">\n",
              "      <th></th>\n",
              "      <th>artist</th>\n",
              "      <th>song</th>\n",
              "      <th>link</th>\n",
              "      <th>text</th>\n",
              "    </tr>\n",
              "  </thead>\n",
              "  <tbody>\n",
              "    <tr>\n",
              "      <th>0</th>\n",
              "      <td>ABBA</td>\n",
              "      <td>Ahe's My Kind Of Girl</td>\n",
              "      <td>/a/abba/ahes+my+kind+of+girl_20598417.html</td>\n",
              "      <td>Look at her face, it's a wonderful face  \\nAnd...</td>\n",
              "    </tr>\n",
              "    <tr>\n",
              "      <th>1</th>\n",
              "      <td>ABBA</td>\n",
              "      <td>Andante, Andante</td>\n",
              "      <td>/a/abba/andante+andante_20002708.html</td>\n",
              "      <td>Take it easy with me, please  \\nTouch me gentl...</td>\n",
              "    </tr>\n",
              "    <tr>\n",
              "      <th>2</th>\n",
              "      <td>ABBA</td>\n",
              "      <td>As Good As New</td>\n",
              "      <td>/a/abba/as+good+as+new_20003033.html</td>\n",
              "      <td>I'll never know why I had to go  \\nWhy I had t...</td>\n",
              "    </tr>\n",
              "    <tr>\n",
              "      <th>3</th>\n",
              "      <td>ABBA</td>\n",
              "      <td>Bang</td>\n",
              "      <td>/a/abba/bang_20598415.html</td>\n",
              "      <td>Making somebody happy is a question of give an...</td>\n",
              "    </tr>\n",
              "    <tr>\n",
              "      <th>4</th>\n",
              "      <td>ABBA</td>\n",
              "      <td>Bang-A-Boomerang</td>\n",
              "      <td>/a/abba/bang+a+boomerang_20002668.html</td>\n",
              "      <td>Making somebody happy is a question of give an...</td>\n",
              "    </tr>\n",
              "  </tbody>\n",
              "</table>\n",
              "</div>\n",
              "      <button class=\"colab-df-convert\" onclick=\"convertToInteractive('df-d5ea76b7-df42-43a8-8c6d-5fce412aa8e4')\"\n",
              "              title=\"Convert this dataframe to an interactive table.\"\n",
              "              style=\"display:none;\">\n",
              "        \n",
              "  <svg xmlns=\"http://www.w3.org/2000/svg\" height=\"24px\"viewBox=\"0 0 24 24\"\n",
              "       width=\"24px\">\n",
              "    <path d=\"M0 0h24v24H0V0z\" fill=\"none\"/>\n",
              "    <path d=\"M18.56 5.44l.94 2.06.94-2.06 2.06-.94-2.06-.94-.94-2.06-.94 2.06-2.06.94zm-11 1L8.5 8.5l.94-2.06 2.06-.94-2.06-.94L8.5 2.5l-.94 2.06-2.06.94zm10 10l.94 2.06.94-2.06 2.06-.94-2.06-.94-.94-2.06-.94 2.06-2.06.94z\"/><path d=\"M17.41 7.96l-1.37-1.37c-.4-.4-.92-.59-1.43-.59-.52 0-1.04.2-1.43.59L10.3 9.45l-7.72 7.72c-.78.78-.78 2.05 0 2.83L4 21.41c.39.39.9.59 1.41.59.51 0 1.02-.2 1.41-.59l7.78-7.78 2.81-2.81c.8-.78.8-2.07 0-2.86zM5.41 20L4 18.59l7.72-7.72 1.47 1.35L5.41 20z\"/>\n",
              "  </svg>\n",
              "      </button>\n",
              "      \n",
              "  <style>\n",
              "    .colab-df-container {\n",
              "      display:flex;\n",
              "      flex-wrap:wrap;\n",
              "      gap: 12px;\n",
              "    }\n",
              "\n",
              "    .colab-df-convert {\n",
              "      background-color: #E8F0FE;\n",
              "      border: none;\n",
              "      border-radius: 50%;\n",
              "      cursor: pointer;\n",
              "      display: none;\n",
              "      fill: #1967D2;\n",
              "      height: 32px;\n",
              "      padding: 0 0 0 0;\n",
              "      width: 32px;\n",
              "    }\n",
              "\n",
              "    .colab-df-convert:hover {\n",
              "      background-color: #E2EBFA;\n",
              "      box-shadow: 0px 1px 2px rgba(60, 64, 67, 0.3), 0px 1px 3px 1px rgba(60, 64, 67, 0.15);\n",
              "      fill: #174EA6;\n",
              "    }\n",
              "\n",
              "    [theme=dark] .colab-df-convert {\n",
              "      background-color: #3B4455;\n",
              "      fill: #D2E3FC;\n",
              "    }\n",
              "\n",
              "    [theme=dark] .colab-df-convert:hover {\n",
              "      background-color: #434B5C;\n",
              "      box-shadow: 0px 1px 3px 1px rgba(0, 0, 0, 0.15);\n",
              "      filter: drop-shadow(0px 1px 2px rgba(0, 0, 0, 0.3));\n",
              "      fill: #FFFFFF;\n",
              "    }\n",
              "  </style>\n",
              "\n",
              "      <script>\n",
              "        const buttonEl =\n",
              "          document.querySelector('#df-d5ea76b7-df42-43a8-8c6d-5fce412aa8e4 button.colab-df-convert');\n",
              "        buttonEl.style.display =\n",
              "          google.colab.kernel.accessAllowed ? 'block' : 'none';\n",
              "\n",
              "        async function convertToInteractive(key) {\n",
              "          const element = document.querySelector('#df-d5ea76b7-df42-43a8-8c6d-5fce412aa8e4');\n",
              "          const dataTable =\n",
              "            await google.colab.kernel.invokeFunction('convertToInteractive',\n",
              "                                                     [key], {});\n",
              "          if (!dataTable) return;\n",
              "\n",
              "          const docLinkHtml = 'Like what you see? Visit the ' +\n",
              "            '<a target=\"_blank\" href=https://colab.research.google.com/notebooks/data_table.ipynb>data table notebook</a>'\n",
              "            + ' to learn more about interactive tables.';\n",
              "          element.innerHTML = '';\n",
              "          dataTable['output_type'] = 'display_data';\n",
              "          await google.colab.output.renderOutput(dataTable, element);\n",
              "          const docLink = document.createElement('div');\n",
              "          docLink.innerHTML = docLinkHtml;\n",
              "          element.appendChild(docLink);\n",
              "        }\n",
              "      </script>\n",
              "    </div>\n",
              "  </div>\n",
              "  "
            ]
          },
          "metadata": {},
          "execution_count": 88
        }
      ]
    },
    {
      "cell_type": "code",
      "source": [
        "#Number of Attributes/ Characteristics = 4\n",
        "data.info()"
      ],
      "metadata": {
        "colab": {
          "base_uri": "https://localhost:8080/"
        },
        "id": "xcrxhj_c4OCT",
        "outputId": "e007b7cb-e650-40c8-c93f-ae2fb196f3bb"
      },
      "execution_count": 80,
      "outputs": [
        {
          "output_type": "stream",
          "name": "stdout",
          "text": [
            "<class 'pandas.core.frame.DataFrame'>\n",
            "RangeIndex: 57650 entries, 0 to 57649\n",
            "Data columns (total 4 columns):\n",
            " #   Column  Non-Null Count  Dtype \n",
            "---  ------  --------------  ----- \n",
            " 0   artist  57650 non-null  object\n",
            " 1   song    57650 non-null  object\n",
            " 2   link    57650 non-null  object\n",
            " 3   text    57650 non-null  object\n",
            "dtypes: object(4)\n",
            "memory usage: 1.8+ MB\n"
          ]
        }
      ]
    },
    {
      "cell_type": "code",
      "source": [
        "#The dataset does not contain any missing value. \n",
        "data.isnull().sum()"
      ],
      "metadata": {
        "colab": {
          "base_uri": "https://localhost:8080/"
        },
        "id": "Hdgx1ltw4SjK",
        "outputId": "25637a3f-2e06-4d4c-bf84-238fbfdee807"
      },
      "execution_count": 81,
      "outputs": [
        {
          "output_type": "execute_result",
          "data": {
            "text/plain": [
              "artist    0\n",
              "song      0\n",
              "link      0\n",
              "text      0\n",
              "dtype: int64"
            ]
          },
          "metadata": {},
          "execution_count": 81
        }
      ]
    },
    {
      "cell_type": "code",
      "source": [
        "#57650 requires a lot of RAM so let as work with 3000 songs\n",
        "data = data.sample(n=3000).drop('link', axis=1).reset_index(drop=True)\n",
        "\n",
        "#Remove the \\n in the 'text' attribute\n",
        "data['text'] = data['text'].str.replace(r'\\n', '')\n",
        "data"
      ],
      "metadata": {
        "colab": {
          "base_uri": "https://localhost:8080/",
          "height": 478
        },
        "id": "Wba41plk4WbE",
        "outputId": "9e3796a8-87af-46e3-f2fc-579683b3ff18"
      },
      "execution_count": 90,
      "outputs": [
        {
          "output_type": "stream",
          "name": "stderr",
          "text": [
            "/usr/local/lib/python3.7/dist-packages/ipykernel_launcher.py:5: FutureWarning: The default value of regex will change from True to False in a future version.\n",
            "  \"\"\"\n"
          ]
        },
        {
          "output_type": "execute_result",
          "data": {
            "text/plain": [
              "            artist                          song  \\\n",
              "0       Roxy Music                To Turn You On   \n",
              "1       Gucci Mane               Mi Casa Tu Casa   \n",
              "2     Randy Travis                Love Lifted Me   \n",
              "3             Enya  The Spirit Of Christmas Past   \n",
              "4           Weezer                    Odd Couple   \n",
              "...            ...                           ...   \n",
              "2995    Bruno Mars                          Gold   \n",
              "2996  Donna Summer                 Sweet Emotion   \n",
              "2997     Scorpions                      Humanity   \n",
              "2998      Hillsong              Am I To Believe?   \n",
              "2999       Misfits                Spinal Remains   \n",
              "\n",
              "                                                   text  \n",
              "0     I could show you in a word  If I wanted to  A ...  \n",
              "1     Chorus:    Coca, coca, coca cola  \"yayo bought...  \n",
              "2     I was sinkin' deep in sin  Far from the peacef...  \n",
              "3     When tears are in your eyes  It's time to look...  \n",
              "4     I got a PC, you got a Mac  I'm giving you flak...  \n",
              "...                                                 ...  \n",
              "2995  Chorus:  There's no light in this room,  It's ...  \n",
              "2996  Seems every star is out tonight to light our l...  \n",
              "2997  Humanity  Auf wiedersehen  It's time to say go...  \n",
              "2998  Am I to believe....  That a God would give his...  \n",
              "2999  This isn't really death, this isn't really lif...  \n",
              "\n",
              "[3000 rows x 3 columns]"
            ],
            "text/html": [
              "\n",
              "  <div id=\"df-a97a8a21-7e71-41ea-a0a6-43ece0ea5abd\">\n",
              "    <div class=\"colab-df-container\">\n",
              "      <div>\n",
              "<style scoped>\n",
              "    .dataframe tbody tr th:only-of-type {\n",
              "        vertical-align: middle;\n",
              "    }\n",
              "\n",
              "    .dataframe tbody tr th {\n",
              "        vertical-align: top;\n",
              "    }\n",
              "\n",
              "    .dataframe thead th {\n",
              "        text-align: right;\n",
              "    }\n",
              "</style>\n",
              "<table border=\"1\" class=\"dataframe\">\n",
              "  <thead>\n",
              "    <tr style=\"text-align: right;\">\n",
              "      <th></th>\n",
              "      <th>artist</th>\n",
              "      <th>song</th>\n",
              "      <th>text</th>\n",
              "    </tr>\n",
              "  </thead>\n",
              "  <tbody>\n",
              "    <tr>\n",
              "      <th>0</th>\n",
              "      <td>Roxy Music</td>\n",
              "      <td>To Turn You On</td>\n",
              "      <td>I could show you in a word  If I wanted to  A ...</td>\n",
              "    </tr>\n",
              "    <tr>\n",
              "      <th>1</th>\n",
              "      <td>Gucci Mane</td>\n",
              "      <td>Mi Casa Tu Casa</td>\n",
              "      <td>Chorus:    Coca, coca, coca cola  \"yayo bought...</td>\n",
              "    </tr>\n",
              "    <tr>\n",
              "      <th>2</th>\n",
              "      <td>Randy Travis</td>\n",
              "      <td>Love Lifted Me</td>\n",
              "      <td>I was sinkin' deep in sin  Far from the peacef...</td>\n",
              "    </tr>\n",
              "    <tr>\n",
              "      <th>3</th>\n",
              "      <td>Enya</td>\n",
              "      <td>The Spirit Of Christmas Past</td>\n",
              "      <td>When tears are in your eyes  It's time to look...</td>\n",
              "    </tr>\n",
              "    <tr>\n",
              "      <th>4</th>\n",
              "      <td>Weezer</td>\n",
              "      <td>Odd Couple</td>\n",
              "      <td>I got a PC, you got a Mac  I'm giving you flak...</td>\n",
              "    </tr>\n",
              "    <tr>\n",
              "      <th>...</th>\n",
              "      <td>...</td>\n",
              "      <td>...</td>\n",
              "      <td>...</td>\n",
              "    </tr>\n",
              "    <tr>\n",
              "      <th>2995</th>\n",
              "      <td>Bruno Mars</td>\n",
              "      <td>Gold</td>\n",
              "      <td>Chorus:  There's no light in this room,  It's ...</td>\n",
              "    </tr>\n",
              "    <tr>\n",
              "      <th>2996</th>\n",
              "      <td>Donna Summer</td>\n",
              "      <td>Sweet Emotion</td>\n",
              "      <td>Seems every star is out tonight to light our l...</td>\n",
              "    </tr>\n",
              "    <tr>\n",
              "      <th>2997</th>\n",
              "      <td>Scorpions</td>\n",
              "      <td>Humanity</td>\n",
              "      <td>Humanity  Auf wiedersehen  It's time to say go...</td>\n",
              "    </tr>\n",
              "    <tr>\n",
              "      <th>2998</th>\n",
              "      <td>Hillsong</td>\n",
              "      <td>Am I To Believe?</td>\n",
              "      <td>Am I to believe....  That a God would give his...</td>\n",
              "    </tr>\n",
              "    <tr>\n",
              "      <th>2999</th>\n",
              "      <td>Misfits</td>\n",
              "      <td>Spinal Remains</td>\n",
              "      <td>This isn't really death, this isn't really lif...</td>\n",
              "    </tr>\n",
              "  </tbody>\n",
              "</table>\n",
              "<p>3000 rows × 3 columns</p>\n",
              "</div>\n",
              "      <button class=\"colab-df-convert\" onclick=\"convertToInteractive('df-a97a8a21-7e71-41ea-a0a6-43ece0ea5abd')\"\n",
              "              title=\"Convert this dataframe to an interactive table.\"\n",
              "              style=\"display:none;\">\n",
              "        \n",
              "  <svg xmlns=\"http://www.w3.org/2000/svg\" height=\"24px\"viewBox=\"0 0 24 24\"\n",
              "       width=\"24px\">\n",
              "    <path d=\"M0 0h24v24H0V0z\" fill=\"none\"/>\n",
              "    <path d=\"M18.56 5.44l.94 2.06.94-2.06 2.06-.94-2.06-.94-.94-2.06-.94 2.06-2.06.94zm-11 1L8.5 8.5l.94-2.06 2.06-.94-2.06-.94L8.5 2.5l-.94 2.06-2.06.94zm10 10l.94 2.06.94-2.06 2.06-.94-2.06-.94-.94-2.06-.94 2.06-2.06.94z\"/><path d=\"M17.41 7.96l-1.37-1.37c-.4-.4-.92-.59-1.43-.59-.52 0-1.04.2-1.43.59L10.3 9.45l-7.72 7.72c-.78.78-.78 2.05 0 2.83L4 21.41c.39.39.9.59 1.41.59.51 0 1.02-.2 1.41-.59l7.78-7.78 2.81-2.81c.8-.78.8-2.07 0-2.86zM5.41 20L4 18.59l7.72-7.72 1.47 1.35L5.41 20z\"/>\n",
              "  </svg>\n",
              "      </button>\n",
              "      \n",
              "  <style>\n",
              "    .colab-df-container {\n",
              "      display:flex;\n",
              "      flex-wrap:wrap;\n",
              "      gap: 12px;\n",
              "    }\n",
              "\n",
              "    .colab-df-convert {\n",
              "      background-color: #E8F0FE;\n",
              "      border: none;\n",
              "      border-radius: 50%;\n",
              "      cursor: pointer;\n",
              "      display: none;\n",
              "      fill: #1967D2;\n",
              "      height: 32px;\n",
              "      padding: 0 0 0 0;\n",
              "      width: 32px;\n",
              "    }\n",
              "\n",
              "    .colab-df-convert:hover {\n",
              "      background-color: #E2EBFA;\n",
              "      box-shadow: 0px 1px 2px rgba(60, 64, 67, 0.3), 0px 1px 3px 1px rgba(60, 64, 67, 0.15);\n",
              "      fill: #174EA6;\n",
              "    }\n",
              "\n",
              "    [theme=dark] .colab-df-convert {\n",
              "      background-color: #3B4455;\n",
              "      fill: #D2E3FC;\n",
              "    }\n",
              "\n",
              "    [theme=dark] .colab-df-convert:hover {\n",
              "      background-color: #434B5C;\n",
              "      box-shadow: 0px 1px 3px 1px rgba(0, 0, 0, 0.15);\n",
              "      filter: drop-shadow(0px 1px 2px rgba(0, 0, 0, 0.3));\n",
              "      fill: #FFFFFF;\n",
              "    }\n",
              "  </style>\n",
              "\n",
              "      <script>\n",
              "        const buttonEl =\n",
              "          document.querySelector('#df-a97a8a21-7e71-41ea-a0a6-43ece0ea5abd button.colab-df-convert');\n",
              "        buttonEl.style.display =\n",
              "          google.colab.kernel.accessAllowed ? 'block' : 'none';\n",
              "\n",
              "        async function convertToInteractive(key) {\n",
              "          const element = document.querySelector('#df-a97a8a21-7e71-41ea-a0a6-43ece0ea5abd');\n",
              "          const dataTable =\n",
              "            await google.colab.kernel.invokeFunction('convertToInteractive',\n",
              "                                                     [key], {});\n",
              "          if (!dataTable) return;\n",
              "\n",
              "          const docLinkHtml = 'Like what you see? Visit the ' +\n",
              "            '<a target=\"_blank\" href=https://colab.research.google.com/notebooks/data_table.ipynb>data table notebook</a>'\n",
              "            + ' to learn more about interactive tables.';\n",
              "          element.innerHTML = '';\n",
              "          dataTable['output_type'] = 'display_data';\n",
              "          await google.colab.output.renderOutput(dataTable, element);\n",
              "          const docLink = document.createElement('div');\n",
              "          docLink.innerHTML = docLinkHtml;\n",
              "          element.appendChild(docLink);\n",
              "        }\n",
              "      </script>\n",
              "    </div>\n",
              "  </div>\n",
              "  "
            ]
          },
          "metadata": {},
          "execution_count": 90
        }
      ]
    },
    {
      "cell_type": "markdown",
      "source": [
        "### **TF-IDF a technique used for information retrieval.**\n",
        "\n",
        "***Algorithm:***\n",
        "1.   Find the score for TF and IDF for each term in the document\n",
        "2.   Product of TF and IDF\n",
        "3.   Product is the TF-IDF weight of that term"
      ],
      "metadata": {
        "id": "Ulpdr9LZ4oix"
      }
    },
    {
      "cell_type": "code",
      "source": [
        "#Using TF-IDF vectorizerthat calculates the TF-IDF score for each \n",
        "#song lyric, word-by-word\n",
        "from sklearn.feature_extraction.text import TfidfVectorizer\n",
        "\n",
        "tfidf = TfidfVectorizer(analyzer='word', stop_words='english')"
      ],
      "metadata": {
        "id": "8J7ODuYY4siV"
      },
      "execution_count": 91,
      "outputs": []
    },
    {
      "cell_type": "code",
      "execution_count": 97,
      "metadata": {
        "id": "VUplMsbry2CM"
      },
      "outputs": [],
      "source": [
        "#Lyric Matrix containing each word with its TF_IDF score\n",
        "lyrics_matrix = tfidf.fit_transform(data['text'])"
      ]
    },
    {
      "cell_type": "code",
      "source": [
        "from sklearn.metrics.pairwise import cosine_similarity\n",
        "\n",
        "# Calculate cosine similarity of each item with every other item in the dataset\n",
        "cosineMatrix = cosine_similarity(lyrics_matrix) "
      ],
      "metadata": {
        "id": "toXGae_M5ghD"
      },
      "execution_count": 98,
      "outputs": []
    },
    {
      "cell_type": "code",
      "source": [
        "#50 similar songs dataset\n",
        "similarities = {}"
      ],
      "metadata": {
        "id": "d8GVsS2k5mCs"
      },
      "execution_count": 99,
      "outputs": []
    },
    {
      "cell_type": "code",
      "execution_count": 107,
      "metadata": {
        "id": "L8Mjt4zky2CO"
      },
      "outputs": [],
      "source": [
        "for i in range(len(cosineMatrix)):\n",
        "\n",
        "    #Sort in ascending order for each element in cosineMatrix and \n",
        "    #get the last 50 indexes of the songs (most similar)\n",
        "    similarIndices = cosineMatrix[i].argsort()[:-50:-1] \n",
        "\n",
        "    #For each song we store the amost 50 similar songs (excluding itself \n",
        "    #thus [1:]) with the details:\n",
        "    #1. Value of the Cosine Matrix \n",
        "    #2. Name of the Song\n",
        "    #3. Name of the artist\n",
        "    \n",
        "    similarities[data['song'].iloc[i]] = [(cosineMatrix[i][x], data['song'][x], data['artist'][x]) for x in similarIndices][1:]"
      ]
    },
    {
      "cell_type": "code",
      "execution_count": 162,
      "metadata": {
        "id": "u6nj6XcDy2CP"
      },
      "outputs": [],
      "source": [
        "class ContentBasedRecommender:\n",
        "  #Parameterized Constructor\n",
        "  def __init__(self, matrix):\n",
        "    self.similarMatrix = matrix\n",
        "\n",
        "  def _print_message(self, song, recomSong, recomNumber):\n",
        "    print(f'The {recomNumber} recommended songs for \\\"{song}\\\" are:\\n')\n",
        "    \n",
        "    for i in range(recomNumber):\n",
        "      print(f\"Song {i+1}: {recomSong[i][1]}\")\n",
        "      print(f\"Artist: {recomSong[i][2]}\")\n",
        "      print(f\"Similarity Score: {round(recomSong[i][0], 3)}\")\n",
        "      print(\"--------------------\\n\")\n",
        "\n",
        "  def recommend(self, recommendation):\n",
        "    #Retrieving the Name of Song\n",
        "    songName = recommendation['songName']\n",
        "\n",
        "    #Number of recommend song\n",
        "    numberSongs = recommendation['numberSongs']\n",
        "\n",
        "    #Get the number of required similar songs from 'similarities' dataset\n",
        "    recomendedSongs = self.similarMatrix[songName][:numberSongs]\n",
        "    # print each item\n",
        "    self._print_message(songName, recomendedSongs, numberSongs)"
      ]
    },
    {
      "cell_type": "code",
      "execution_count": 163,
      "metadata": {
        "id": "hCLOyPrOy2CP"
      },
      "outputs": [],
      "source": [
        "#Initiate Class\n",
        "recommedations = ContentBasedRecommender(similarities)"
      ]
    },
    {
      "cell_type": "code",
      "source": [
        "#Some song name:\n",
        "#1. To Turn You On\n",
        "#2. Spinal Remains\n",
        "#3. Letter To My Daughters\n",
        "\n",
        "name = input(\"Enter your Song Name: \")\n",
        "num = int(input(\"Number of Recommended Songs: \"))"
      ],
      "metadata": {
        "colab": {
          "base_uri": "https://localhost:8080/"
        },
        "id": "fCp-VaxUn6hM",
        "outputId": "2a31b27d-6f77-4315-9e27-cb512af4e7bf"
      },
      "execution_count": 164,
      "outputs": [
        {
          "name": "stdout",
          "output_type": "stream",
          "text": [
            "Enter your Song Name: Spinal Remains\n",
            "Number of Recommended Songs: 4\n"
          ]
        }
      ]
    },
    {
      "cell_type": "code",
      "execution_count": 165,
      "metadata": {
        "colab": {
          "base_uri": "https://localhost:8080/"
        },
        "id": "3b55MNWOy2CQ",
        "outputId": "d7fee4dc-13e4-4618-a719-f5f9db33220c"
      },
      "outputs": [
        {
          "output_type": "stream",
          "name": "stdout",
          "text": [
            "The 4 recommended songs for \"Spinal Remains\" are:\n",
            "\n",
            "Song 1: Not For Free\n",
            "Artist: Face To Face\n",
            "Similarity Score: 0.291\n",
            "--------------------\n",
            "\n",
            "Song 2: Sensible\n",
            "Artist: Face To Face\n",
            "Similarity Score: 0.194\n",
            "--------------------\n",
            "\n",
            "Song 3: You Really Got Me\n",
            "Artist: Van Halen\n",
            "Similarity Score: 0.189\n",
            "--------------------\n",
            "\n",
            "Song 4: Death Valley Lives\n",
            "Artist: Jimmy Buffett\n",
            "Similarity Score: 0.18\n",
            "--------------------\n",
            "\n"
          ]
        }
      ],
      "source": [
        "recommendation = {\n",
        "    \"songName\": name,\n",
        "    \"numberSongs\": num\n",
        "}\n",
        "\n",
        "recommedations.recommend(recommendation)"
      ]
    }
  ],
  "metadata": {
    "kernelspec": {
      "display_name": "Python 3",
      "language": "python",
      "name": "python3"
    },
    "language_info": {
      "codemirror_mode": {
        "name": "ipython",
        "version": 3
      },
      "file_extension": ".py",
      "mimetype": "text/x-python",
      "name": "python",
      "nbconvert_exporter": "python",
      "pygments_lexer": "ipython3",
      "version": "3.6.6"
    },
    "colab": {
      "provenance": [],
      "include_colab_link": true
    }
  },
  "nbformat": 4,
  "nbformat_minor": 0
}