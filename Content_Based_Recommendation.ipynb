{
  "cells": [
    {
      "cell_type": "markdown",
      "metadata": {
        "id": "view-in-github",
        "colab_type": "text"
      },
      "source": [
        "<a href=\"https://colab.research.google.com/github/Arghya-Bandyopadhyay30/Music-Recommendation-System/blob/main/Content_Based_Recommendation.ipynb\" target=\"_parent\"><img src=\"https://colab.research.google.com/assets/colab-badge.svg\" alt=\"Open In Colab\"/></a>"
      ]
    },
    {
      "cell_type": "markdown",
      "metadata": {
        "id": "OItNoFsBy2B3"
      },
      "source": [
        "### **Music Recommender System**\n",
        "\n",
        "**There are two main types of recommender systems:**\n",
        "1.   Content-Based Filters\n",
        "2.   Collaborative Filters"
      ]
    },
    {
      "cell_type": "code",
      "execution_count": 204,
      "metadata": {
        "id": "1GR2EWo1y2CB"
      },
      "outputs": [],
      "source": [
        "#Importing Basic Required Libraries\n",
        "import numpy as np\n",
        "import pandas as pd"
      ]
    },
    {
      "cell_type": "code",
      "source": [
        "#The dataset contains name, artist and lyrics for 57650 songs in English. \n",
        "data = pd.read_csv(\"songdata.csv\")\n",
        "\n",
        "data.head()"
      ],
      "metadata": {
        "colab": {
          "base_uri": "https://localhost:8080/",
          "height": 302
        },
        "id": "ONwpeOU34Hc5",
        "outputId": "db40f0af-8f01-46a8-fb88-c41adcb91e6b"
      },
      "execution_count": 205,
      "outputs": [
        {
          "output_type": "execute_result",
          "data": {
            "text/plain": [
              "  artist                   song                                        link  \\\n",
              "0   ABBA  Ahe's My Kind Of Girl  /a/abba/ahes+my+kind+of+girl_20598417.html   \n",
              "1   ABBA       Andante, Andante       /a/abba/andante+andante_20002708.html   \n",
              "2   ABBA         As Good As New        /a/abba/as+good+as+new_20003033.html   \n",
              "3   ABBA                   Bang                  /a/abba/bang_20598415.html   \n",
              "4   ABBA       Bang-A-Boomerang      /a/abba/bang+a+boomerang_20002668.html   \n",
              "\n",
              "                                                text  \n",
              "0  Look at her face, it's a wonderful face  \\nAnd...  \n",
              "1  Take it easy with me, please  \\nTouch me gentl...  \n",
              "2  I'll never know why I had to go  \\nWhy I had t...  \n",
              "3  Making somebody happy is a question of give an...  \n",
              "4  Making somebody happy is a question of give an...  "
            ],
            "text/html": [
              "\n",
              "  <div id=\"df-828003d7-cebb-4801-bc0e-76ebeddb1a62\">\n",
              "    <div class=\"colab-df-container\">\n",
              "      <div>\n",
              "<style scoped>\n",
              "    .dataframe tbody tr th:only-of-type {\n",
              "        vertical-align: middle;\n",
              "    }\n",
              "\n",
              "    .dataframe tbody tr th {\n",
              "        vertical-align: top;\n",
              "    }\n",
              "\n",
              "    .dataframe thead th {\n",
              "        text-align: right;\n",
              "    }\n",
              "</style>\n",
              "<table border=\"1\" class=\"dataframe\">\n",
              "  <thead>\n",
              "    <tr style=\"text-align: right;\">\n",
              "      <th></th>\n",
              "      <th>artist</th>\n",
              "      <th>song</th>\n",
              "      <th>link</th>\n",
              "      <th>text</th>\n",
              "    </tr>\n",
              "  </thead>\n",
              "  <tbody>\n",
              "    <tr>\n",
              "      <th>0</th>\n",
              "      <td>ABBA</td>\n",
              "      <td>Ahe's My Kind Of Girl</td>\n",
              "      <td>/a/abba/ahes+my+kind+of+girl_20598417.html</td>\n",
              "      <td>Look at her face, it's a wonderful face  \\nAnd...</td>\n",
              "    </tr>\n",
              "    <tr>\n",
              "      <th>1</th>\n",
              "      <td>ABBA</td>\n",
              "      <td>Andante, Andante</td>\n",
              "      <td>/a/abba/andante+andante_20002708.html</td>\n",
              "      <td>Take it easy with me, please  \\nTouch me gentl...</td>\n",
              "    </tr>\n",
              "    <tr>\n",
              "      <th>2</th>\n",
              "      <td>ABBA</td>\n",
              "      <td>As Good As New</td>\n",
              "      <td>/a/abba/as+good+as+new_20003033.html</td>\n",
              "      <td>I'll never know why I had to go  \\nWhy I had t...</td>\n",
              "    </tr>\n",
              "    <tr>\n",
              "      <th>3</th>\n",
              "      <td>ABBA</td>\n",
              "      <td>Bang</td>\n",
              "      <td>/a/abba/bang_20598415.html</td>\n",
              "      <td>Making somebody happy is a question of give an...</td>\n",
              "    </tr>\n",
              "    <tr>\n",
              "      <th>4</th>\n",
              "      <td>ABBA</td>\n",
              "      <td>Bang-A-Boomerang</td>\n",
              "      <td>/a/abba/bang+a+boomerang_20002668.html</td>\n",
              "      <td>Making somebody happy is a question of give an...</td>\n",
              "    </tr>\n",
              "  </tbody>\n",
              "</table>\n",
              "</div>\n",
              "      <button class=\"colab-df-convert\" onclick=\"convertToInteractive('df-828003d7-cebb-4801-bc0e-76ebeddb1a62')\"\n",
              "              title=\"Convert this dataframe to an interactive table.\"\n",
              "              style=\"display:none;\">\n",
              "        \n",
              "  <svg xmlns=\"http://www.w3.org/2000/svg\" height=\"24px\"viewBox=\"0 0 24 24\"\n",
              "       width=\"24px\">\n",
              "    <path d=\"M0 0h24v24H0V0z\" fill=\"none\"/>\n",
              "    <path d=\"M18.56 5.44l.94 2.06.94-2.06 2.06-.94-2.06-.94-.94-2.06-.94 2.06-2.06.94zm-11 1L8.5 8.5l.94-2.06 2.06-.94-2.06-.94L8.5 2.5l-.94 2.06-2.06.94zm10 10l.94 2.06.94-2.06 2.06-.94-2.06-.94-.94-2.06-.94 2.06-2.06.94z\"/><path d=\"M17.41 7.96l-1.37-1.37c-.4-.4-.92-.59-1.43-.59-.52 0-1.04.2-1.43.59L10.3 9.45l-7.72 7.72c-.78.78-.78 2.05 0 2.83L4 21.41c.39.39.9.59 1.41.59.51 0 1.02-.2 1.41-.59l7.78-7.78 2.81-2.81c.8-.78.8-2.07 0-2.86zM5.41 20L4 18.59l7.72-7.72 1.47 1.35L5.41 20z\"/>\n",
              "  </svg>\n",
              "      </button>\n",
              "      \n",
              "  <style>\n",
              "    .colab-df-container {\n",
              "      display:flex;\n",
              "      flex-wrap:wrap;\n",
              "      gap: 12px;\n",
              "    }\n",
              "\n",
              "    .colab-df-convert {\n",
              "      background-color: #E8F0FE;\n",
              "      border: none;\n",
              "      border-radius: 50%;\n",
              "      cursor: pointer;\n",
              "      display: none;\n",
              "      fill: #1967D2;\n",
              "      height: 32px;\n",
              "      padding: 0 0 0 0;\n",
              "      width: 32px;\n",
              "    }\n",
              "\n",
              "    .colab-df-convert:hover {\n",
              "      background-color: #E2EBFA;\n",
              "      box-shadow: 0px 1px 2px rgba(60, 64, 67, 0.3), 0px 1px 3px 1px rgba(60, 64, 67, 0.15);\n",
              "      fill: #174EA6;\n",
              "    }\n",
              "\n",
              "    [theme=dark] .colab-df-convert {\n",
              "      background-color: #3B4455;\n",
              "      fill: #D2E3FC;\n",
              "    }\n",
              "\n",
              "    [theme=dark] .colab-df-convert:hover {\n",
              "      background-color: #434B5C;\n",
              "      box-shadow: 0px 1px 3px 1px rgba(0, 0, 0, 0.15);\n",
              "      filter: drop-shadow(0px 1px 2px rgba(0, 0, 0, 0.3));\n",
              "      fill: #FFFFFF;\n",
              "    }\n",
              "  </style>\n",
              "\n",
              "      <script>\n",
              "        const buttonEl =\n",
              "          document.querySelector('#df-828003d7-cebb-4801-bc0e-76ebeddb1a62 button.colab-df-convert');\n",
              "        buttonEl.style.display =\n",
              "          google.colab.kernel.accessAllowed ? 'block' : 'none';\n",
              "\n",
              "        async function convertToInteractive(key) {\n",
              "          const element = document.querySelector('#df-828003d7-cebb-4801-bc0e-76ebeddb1a62');\n",
              "          const dataTable =\n",
              "            await google.colab.kernel.invokeFunction('convertToInteractive',\n",
              "                                                     [key], {});\n",
              "          if (!dataTable) return;\n",
              "\n",
              "          const docLinkHtml = 'Like what you see? Visit the ' +\n",
              "            '<a target=\"_blank\" href=https://colab.research.google.com/notebooks/data_table.ipynb>data table notebook</a>'\n",
              "            + ' to learn more about interactive tables.';\n",
              "          element.innerHTML = '';\n",
              "          dataTable['output_type'] = 'display_data';\n",
              "          await google.colab.output.renderOutput(dataTable, element);\n",
              "          const docLink = document.createElement('div');\n",
              "          docLink.innerHTML = docLinkHtml;\n",
              "          element.appendChild(docLink);\n",
              "        }\n",
              "      </script>\n",
              "    </div>\n",
              "  </div>\n",
              "  "
            ]
          },
          "metadata": {},
          "execution_count": 205
        }
      ]
    },
    {
      "cell_type": "code",
      "source": [
        "#Number of Attributes/ Characteristics = 4\n",
        "data.info()"
      ],
      "metadata": {
        "colab": {
          "base_uri": "https://localhost:8080/"
        },
        "id": "xcrxhj_c4OCT",
        "outputId": "ff895247-2a52-40e4-ba97-fbecae5c8824"
      },
      "execution_count": 206,
      "outputs": [
        {
          "output_type": "stream",
          "name": "stdout",
          "text": [
            "<class 'pandas.core.frame.DataFrame'>\n",
            "RangeIndex: 57650 entries, 0 to 57649\n",
            "Data columns (total 4 columns):\n",
            " #   Column  Non-Null Count  Dtype \n",
            "---  ------  --------------  ----- \n",
            " 0   artist  57650 non-null  object\n",
            " 1   song    57650 non-null  object\n",
            " 2   link    57650 non-null  object\n",
            " 3   text    57650 non-null  object\n",
            "dtypes: object(4)\n",
            "memory usage: 1.8+ MB\n"
          ]
        }
      ]
    },
    {
      "cell_type": "code",
      "source": [
        "#The dataset does not contain any missing value. \n",
        "data.isnull().sum()"
      ],
      "metadata": {
        "colab": {
          "base_uri": "https://localhost:8080/"
        },
        "id": "Hdgx1ltw4SjK",
        "outputId": "2ce33523-9973-4d95-cef5-6abe10e86df2"
      },
      "execution_count": 207,
      "outputs": [
        {
          "output_type": "execute_result",
          "data": {
            "text/plain": [
              "artist    0\n",
              "song      0\n",
              "link      0\n",
              "text      0\n",
              "dtype: int64"
            ]
          },
          "metadata": {},
          "execution_count": 207
        }
      ]
    },
    {
      "cell_type": "code",
      "source": [
        "#57650 requires a lot of RAM so let as work with 3000 songs\n",
        "data = data.sample(n=3000).reset_index(drop=True)\n",
        "\n",
        "#Remove the \\n in the 'text' attribute\n",
        "data['text'] = data['text'].str.replace(r'\\n', '')\n",
        "data"
      ],
      "metadata": {
        "colab": {
          "base_uri": "https://localhost:8080/",
          "height": 696
        },
        "id": "Wba41plk4WbE",
        "outputId": "85088a26-fdb9-4c98-ab23-d1a4ea163268"
      },
      "execution_count": 208,
      "outputs": [
        {
          "output_type": "stream",
          "name": "stderr",
          "text": [
            "/usr/local/lib/python3.7/dist-packages/ipykernel_launcher.py:5: FutureWarning: The default value of regex will change from True to False in a future version.\n",
            "  \"\"\"\n"
          ]
        },
        {
          "output_type": "execute_result",
          "data": {
            "text/plain": [
              "                  artist                   song  \\\n",
              "0               You Am I     How Much Is Enough   \n",
              "1                    HIM  Right Here In My Arms   \n",
              "2                  Kinks             Demolition   \n",
              "3                 Primus               Jellikit   \n",
              "4     Harry Connick, Jr.            S'wonderful   \n",
              "...                  ...                    ...   \n",
              "2995       Grateful Dead       Brokedown Palace   \n",
              "2996            Iggy Pop          Eggs On Plate   \n",
              "2997      Arrogant Worms    Song Inside My Head   \n",
              "2998            Hillsong  Jesus You Gave It All   \n",
              "2999               Venom               Parasite   \n",
              "\n",
              "                                                   link  \\\n",
              "0          /y/you+am+i/how+much+is+enough_20222558.html   \n",
              "1            /h/him/right+here+in+my+arms_10139974.html   \n",
              "2                     /k/kinks/demolition_20079077.html   \n",
              "3                      /p/primus/jellikit_20110923.html   \n",
              "4          /h/harry+connick+jr/swonderful_20344858.html   \n",
              "...                                                 ...   \n",
              "2995    /g/grateful+dead/brokedown+palace_20062292.html   \n",
              "2996            /i/iggy+pop/eggs+on+plate_20066989.html   \n",
              "2997  /a/arrogant+worms/song+inside+my+head_20275417...   \n",
              "2998    /h/hillsong/jesus+you+gave+it+all_20816911.html   \n",
              "2999                    /v/venom/parasite_20533700.html   \n",
              "\n",
              "                                                   text  \n",
              "0     Would it stain  If the lights fell down on you...  \n",
              "1     She's smiling like heaven is down on earth  Su...  \n",
              "2     I spy with my little eye  Anything here that I...  \n",
              "3     I just want to satisfy you  I would like to re...  \n",
              "4     S' wonderful! 'S marvelous!  You should care f...  \n",
              "...                                                 ...  \n",
              "2995  Fare you well my honey  Fare you well my only ...  \n",
              "2996  Oh Lord I got eggs on my plate  I got em Damn ...  \n",
              "2997  There's a tune inside my head  That makes me w...  \n",
              "2998  Lord, I lift my voice in praise to You  For th...  \n",
              "2999  There was a time when hunger was mine,you'd wa...  \n",
              "\n",
              "[3000 rows x 4 columns]"
            ],
            "text/html": [
              "\n",
              "  <div id=\"df-beb7a3dc-18f0-4763-8c18-88de54b41094\">\n",
              "    <div class=\"colab-df-container\">\n",
              "      <div>\n",
              "<style scoped>\n",
              "    .dataframe tbody tr th:only-of-type {\n",
              "        vertical-align: middle;\n",
              "    }\n",
              "\n",
              "    .dataframe tbody tr th {\n",
              "        vertical-align: top;\n",
              "    }\n",
              "\n",
              "    .dataframe thead th {\n",
              "        text-align: right;\n",
              "    }\n",
              "</style>\n",
              "<table border=\"1\" class=\"dataframe\">\n",
              "  <thead>\n",
              "    <tr style=\"text-align: right;\">\n",
              "      <th></th>\n",
              "      <th>artist</th>\n",
              "      <th>song</th>\n",
              "      <th>link</th>\n",
              "      <th>text</th>\n",
              "    </tr>\n",
              "  </thead>\n",
              "  <tbody>\n",
              "    <tr>\n",
              "      <th>0</th>\n",
              "      <td>You Am I</td>\n",
              "      <td>How Much Is Enough</td>\n",
              "      <td>/y/you+am+i/how+much+is+enough_20222558.html</td>\n",
              "      <td>Would it stain  If the lights fell down on you...</td>\n",
              "    </tr>\n",
              "    <tr>\n",
              "      <th>1</th>\n",
              "      <td>HIM</td>\n",
              "      <td>Right Here In My Arms</td>\n",
              "      <td>/h/him/right+here+in+my+arms_10139974.html</td>\n",
              "      <td>She's smiling like heaven is down on earth  Su...</td>\n",
              "    </tr>\n",
              "    <tr>\n",
              "      <th>2</th>\n",
              "      <td>Kinks</td>\n",
              "      <td>Demolition</td>\n",
              "      <td>/k/kinks/demolition_20079077.html</td>\n",
              "      <td>I spy with my little eye  Anything here that I...</td>\n",
              "    </tr>\n",
              "    <tr>\n",
              "      <th>3</th>\n",
              "      <td>Primus</td>\n",
              "      <td>Jellikit</td>\n",
              "      <td>/p/primus/jellikit_20110923.html</td>\n",
              "      <td>I just want to satisfy you  I would like to re...</td>\n",
              "    </tr>\n",
              "    <tr>\n",
              "      <th>4</th>\n",
              "      <td>Harry Connick, Jr.</td>\n",
              "      <td>S'wonderful</td>\n",
              "      <td>/h/harry+connick+jr/swonderful_20344858.html</td>\n",
              "      <td>S' wonderful! 'S marvelous!  You should care f...</td>\n",
              "    </tr>\n",
              "    <tr>\n",
              "      <th>...</th>\n",
              "      <td>...</td>\n",
              "      <td>...</td>\n",
              "      <td>...</td>\n",
              "      <td>...</td>\n",
              "    </tr>\n",
              "    <tr>\n",
              "      <th>2995</th>\n",
              "      <td>Grateful Dead</td>\n",
              "      <td>Brokedown Palace</td>\n",
              "      <td>/g/grateful+dead/brokedown+palace_20062292.html</td>\n",
              "      <td>Fare you well my honey  Fare you well my only ...</td>\n",
              "    </tr>\n",
              "    <tr>\n",
              "      <th>2996</th>\n",
              "      <td>Iggy Pop</td>\n",
              "      <td>Eggs On Plate</td>\n",
              "      <td>/i/iggy+pop/eggs+on+plate_20066989.html</td>\n",
              "      <td>Oh Lord I got eggs on my plate  I got em Damn ...</td>\n",
              "    </tr>\n",
              "    <tr>\n",
              "      <th>2997</th>\n",
              "      <td>Arrogant Worms</td>\n",
              "      <td>Song Inside My Head</td>\n",
              "      <td>/a/arrogant+worms/song+inside+my+head_20275417...</td>\n",
              "      <td>There's a tune inside my head  That makes me w...</td>\n",
              "    </tr>\n",
              "    <tr>\n",
              "      <th>2998</th>\n",
              "      <td>Hillsong</td>\n",
              "      <td>Jesus You Gave It All</td>\n",
              "      <td>/h/hillsong/jesus+you+gave+it+all_20816911.html</td>\n",
              "      <td>Lord, I lift my voice in praise to You  For th...</td>\n",
              "    </tr>\n",
              "    <tr>\n",
              "      <th>2999</th>\n",
              "      <td>Venom</td>\n",
              "      <td>Parasite</td>\n",
              "      <td>/v/venom/parasite_20533700.html</td>\n",
              "      <td>There was a time when hunger was mine,you'd wa...</td>\n",
              "    </tr>\n",
              "  </tbody>\n",
              "</table>\n",
              "<p>3000 rows × 4 columns</p>\n",
              "</div>\n",
              "      <button class=\"colab-df-convert\" onclick=\"convertToInteractive('df-beb7a3dc-18f0-4763-8c18-88de54b41094')\"\n",
              "              title=\"Convert this dataframe to an interactive table.\"\n",
              "              style=\"display:none;\">\n",
              "        \n",
              "  <svg xmlns=\"http://www.w3.org/2000/svg\" height=\"24px\"viewBox=\"0 0 24 24\"\n",
              "       width=\"24px\">\n",
              "    <path d=\"M0 0h24v24H0V0z\" fill=\"none\"/>\n",
              "    <path d=\"M18.56 5.44l.94 2.06.94-2.06 2.06-.94-2.06-.94-.94-2.06-.94 2.06-2.06.94zm-11 1L8.5 8.5l.94-2.06 2.06-.94-2.06-.94L8.5 2.5l-.94 2.06-2.06.94zm10 10l.94 2.06.94-2.06 2.06-.94-2.06-.94-.94-2.06-.94 2.06-2.06.94z\"/><path d=\"M17.41 7.96l-1.37-1.37c-.4-.4-.92-.59-1.43-.59-.52 0-1.04.2-1.43.59L10.3 9.45l-7.72 7.72c-.78.78-.78 2.05 0 2.83L4 21.41c.39.39.9.59 1.41.59.51 0 1.02-.2 1.41-.59l7.78-7.78 2.81-2.81c.8-.78.8-2.07 0-2.86zM5.41 20L4 18.59l7.72-7.72 1.47 1.35L5.41 20z\"/>\n",
              "  </svg>\n",
              "      </button>\n",
              "      \n",
              "  <style>\n",
              "    .colab-df-container {\n",
              "      display:flex;\n",
              "      flex-wrap:wrap;\n",
              "      gap: 12px;\n",
              "    }\n",
              "\n",
              "    .colab-df-convert {\n",
              "      background-color: #E8F0FE;\n",
              "      border: none;\n",
              "      border-radius: 50%;\n",
              "      cursor: pointer;\n",
              "      display: none;\n",
              "      fill: #1967D2;\n",
              "      height: 32px;\n",
              "      padding: 0 0 0 0;\n",
              "      width: 32px;\n",
              "    }\n",
              "\n",
              "    .colab-df-convert:hover {\n",
              "      background-color: #E2EBFA;\n",
              "      box-shadow: 0px 1px 2px rgba(60, 64, 67, 0.3), 0px 1px 3px 1px rgba(60, 64, 67, 0.15);\n",
              "      fill: #174EA6;\n",
              "    }\n",
              "\n",
              "    [theme=dark] .colab-df-convert {\n",
              "      background-color: #3B4455;\n",
              "      fill: #D2E3FC;\n",
              "    }\n",
              "\n",
              "    [theme=dark] .colab-df-convert:hover {\n",
              "      background-color: #434B5C;\n",
              "      box-shadow: 0px 1px 3px 1px rgba(0, 0, 0, 0.15);\n",
              "      filter: drop-shadow(0px 1px 2px rgba(0, 0, 0, 0.3));\n",
              "      fill: #FFFFFF;\n",
              "    }\n",
              "  </style>\n",
              "\n",
              "      <script>\n",
              "        const buttonEl =\n",
              "          document.querySelector('#df-beb7a3dc-18f0-4763-8c18-88de54b41094 button.colab-df-convert');\n",
              "        buttonEl.style.display =\n",
              "          google.colab.kernel.accessAllowed ? 'block' : 'none';\n",
              "\n",
              "        async function convertToInteractive(key) {\n",
              "          const element = document.querySelector('#df-beb7a3dc-18f0-4763-8c18-88de54b41094');\n",
              "          const dataTable =\n",
              "            await google.colab.kernel.invokeFunction('convertToInteractive',\n",
              "                                                     [key], {});\n",
              "          if (!dataTable) return;\n",
              "\n",
              "          const docLinkHtml = 'Like what you see? Visit the ' +\n",
              "            '<a target=\"_blank\" href=https://colab.research.google.com/notebooks/data_table.ipynb>data table notebook</a>'\n",
              "            + ' to learn more about interactive tables.';\n",
              "          element.innerHTML = '';\n",
              "          dataTable['output_type'] = 'display_data';\n",
              "          await google.colab.output.renderOutput(dataTable, element);\n",
              "          const docLink = document.createElement('div');\n",
              "          docLink.innerHTML = docLinkHtml;\n",
              "          element.appendChild(docLink);\n",
              "        }\n",
              "      </script>\n",
              "    </div>\n",
              "  </div>\n",
              "  "
            ]
          },
          "metadata": {},
          "execution_count": 208
        }
      ]
    },
    {
      "cell_type": "markdown",
      "source": [
        "### **TF-IDF a technique used for information retrieval.**\n",
        "\n",
        "***Algorithm:***\n",
        "1.   Find the score for TF and IDF for each term in the document\n",
        "2.   Product of TF and IDF\n",
        "3.   Product is the TF-IDF weight of that term"
      ],
      "metadata": {
        "id": "Ulpdr9LZ4oix"
      }
    },
    {
      "cell_type": "code",
      "source": [
        "#Using TF-IDF vectorizerthat calculates the TF-IDF score for each \n",
        "#song lyric, word-by-word\n",
        "from sklearn.feature_extraction.text import TfidfVectorizer\n",
        "\n",
        "tfidf = TfidfVectorizer(analyzer='word', stop_words='english')"
      ],
      "metadata": {
        "id": "8J7ODuYY4siV"
      },
      "execution_count": 209,
      "outputs": []
    },
    {
      "cell_type": "code",
      "execution_count": 210,
      "metadata": {
        "id": "VUplMsbry2CM"
      },
      "outputs": [],
      "source": [
        "#Lyric Matrix containing each word with its TF_IDF score\n",
        "lyrics_matrix = tfidf.fit_transform(data['text'])"
      ]
    },
    {
      "cell_type": "code",
      "source": [
        "from sklearn.metrics.pairwise import cosine_similarity\n",
        "\n",
        "# Calculate cosine similarity of each item with every other item in the dataset\n",
        "cosineMatrix = cosine_similarity(lyrics_matrix) "
      ],
      "metadata": {
        "id": "toXGae_M5ghD"
      },
      "execution_count": 211,
      "outputs": []
    },
    {
      "cell_type": "code",
      "source": [
        "#50 similar songs dataset\n",
        "similarities = {}"
      ],
      "metadata": {
        "id": "d8GVsS2k5mCs"
      },
      "execution_count": 212,
      "outputs": []
    },
    {
      "cell_type": "code",
      "execution_count": 213,
      "metadata": {
        "id": "L8Mjt4zky2CO"
      },
      "outputs": [],
      "source": [
        "for i in range(len(cosineMatrix)):\n",
        "\n",
        "    #Sort in ascending order for each element in cosineMatrix and \n",
        "    #get the last 50 indexes of the songs (most similar)\n",
        "    similarIndices = cosineMatrix[i].argsort()[:-50:-1] \n",
        "\n",
        "    #For each song we store the amost 50 similar songs (excluding itself \n",
        "    #thus [1:]) with the details:\n",
        "    #1. Value of the Cosine Matrix \n",
        "    #2. Name of the Song\n",
        "    #3. Name of the Artist\n",
        "    #4. Link of the Song\n",
        "    \n",
        "    similarities[data['song'].iloc[i]] = [(cosineMatrix[i][x], data['song'][x], \n",
        "                data['artist'][x], data['link'][x]) for x in similarIndices][1:]"
      ]
    },
    {
      "cell_type": "code",
      "execution_count": 219,
      "metadata": {
        "id": "u6nj6XcDy2CP"
      },
      "outputs": [],
      "source": [
        "class ContentBasedRecommender:\n",
        "  #Parameterized Constructor\n",
        "  def __init__(self, matrix):\n",
        "    self.similarMatrix = matrix\n",
        "\n",
        "  def _print_message(self, song, recomSong, recomNumber):\n",
        "    print(f'The {recomNumber} recommended songs for \\\"{song}\\\" are:\\n')\n",
        "    \n",
        "    for i in range(recomNumber):\n",
        "      print(f\"Song {i+1}: {recomSong[i][1]}\")\n",
        "      print(f\"Artist: {recomSong[i][2]}\")\n",
        "      print(f\"Link: {recomSong[i][3]}\")\n",
        "      print(f\"Similarity Score: {round(recomSong[i][0], 3)}\")\n",
        "      print(\"--------------------\\n\")\n",
        "\n",
        "  def recommend(self, recommendation):\n",
        "    #Retrieving the Name of Song\n",
        "    songName = recommendation['songName']\n",
        "\n",
        "    #Number of recommend song\n",
        "    numberSongs = recommendation['numberSongs']\n",
        "\n",
        "    #Get the number of required similar songs from 'similarities' dataset\n",
        "    recomendedSongs = self.similarMatrix[songName][:numberSongs]\n",
        "    # print each item\n",
        "    self._print_message(songName, recomendedSongs, numberSongs)"
      ]
    },
    {
      "cell_type": "code",
      "execution_count": 220,
      "metadata": {
        "id": "hCLOyPrOy2CP"
      },
      "outputs": [],
      "source": [
        "##Initiate Class\n",
        "recommedations = ContentBasedRecommender(similarities)"
      ]
    },
    {
      "cell_type": "code",
      "source": [
        "name = input(\"Enter your Song Name: \")\n",
        "num = int(input(\"Number of Recommended Songs: \"))"
      ],
      "metadata": {
        "colab": {
          "base_uri": "https://localhost:8080/"
        },
        "id": "fCp-VaxUn6hM",
        "outputId": "62cc591d-7d34-4082-fe8f-85e1e2e76068"
      },
      "execution_count": 221,
      "outputs": [
        {
          "name": "stdout",
          "output_type": "stream",
          "text": [
            "Enter your Song Name: Jellikit\n",
            "Number of Recommended Songs: 3\n"
          ]
        }
      ]
    },
    {
      "cell_type": "code",
      "execution_count": 217,
      "metadata": {
        "colab": {
          "base_uri": "https://localhost:8080/"
        },
        "id": "3b55MNWOy2CQ",
        "outputId": "b820e1e6-c353-495a-e74d-ad08c21a4b97"
      },
      "outputs": [
        {
          "output_type": "stream",
          "name": "stdout",
          "text": [
            "The 3 recommended songs for \"Jellikit\" are:\n",
            "\n",
            "Song 1: Picture In Your Mind\n",
            "Artist: Bread\n",
            "Link: /b/bread/picture+in+your+mind_20024068.html\n",
            "Similarity Score: 0.201\n",
            "--------------------\n",
            "\n",
            "Song 2: I Just Wanna\n",
            "Artist: Kiss\n",
            "Link: /k/kiss/i+just+wanna_20079937.html\n",
            "Similarity Score: 0.192\n",
            "--------------------\n",
            "\n",
            "Song 3: I Want You\n",
            "Artist: Elvis Costello\n",
            "Link: /e/elvis+costello/i+want+you_20047601.html\n",
            "Similarity Score: 0.188\n",
            "--------------------\n",
            "\n"
          ]
        }
      ],
      "source": [
        "recommendation = {\n",
        "    \"songName\": name,\n",
        "    \"numberSongs\": num\n",
        "}\n",
        "\n",
        "recommedations.recommend(recommendation)"
      ]
    }
  ],
  "metadata": {
    "kernelspec": {
      "display_name": "Python 3",
      "language": "python",
      "name": "python3"
    },
    "language_info": {
      "codemirror_mode": {
        "name": "ipython",
        "version": 3
      },
      "file_extension": ".py",
      "mimetype": "text/x-python",
      "name": "python",
      "nbconvert_exporter": "python",
      "pygments_lexer": "ipython3",
      "version": "3.6.6"
    },
    "colab": {
      "provenance": [],
      "include_colab_link": true
    }
  },
  "nbformat": 4,
  "nbformat_minor": 0
}