{
  "cells": [
    {
      "cell_type": "markdown",
      "metadata": {
        "id": "view-in-github",
        "colab_type": "text"
      },
      "source": [
        "<a href=\"https://colab.research.google.com/github/Arghya-Bandyopadhyay30/Content-Based-Music-Recommendation/blob/main/Content_Based_Recommendation.ipynb\" target=\"_parent\"><img src=\"https://colab.research.google.com/assets/colab-badge.svg\" alt=\"Open In Colab\"/></a>"
      ]
    },
    {
      "cell_type": "code",
      "source": [
        "#Kaggle Link: https://www.kaggle.com/datasets/notshrirang/spotify-million-song-dataset"
      ],
      "metadata": {
        "id": "fAoGwBKuezmu"
      },
      "execution_count": null,
      "outputs": []
    },
    {
      "cell_type": "markdown",
      "metadata": {
        "id": "OItNoFsBy2B3"
      },
      "source": [
        "### **Music Recommender System**\n",
        "\n",
        "**There are two main types of recommender systems:**\n",
        "1.   Content-Based Filters\n",
        "2.   Collaborative Filters"
      ]
    },
    {
      "cell_type": "code",
      "execution_count": null,
      "metadata": {
        "id": "1GR2EWo1y2CB"
      },
      "outputs": [],
      "source": [
        "#Importing Basic Required Libraries\n",
        "import numpy as np\n",
        "import pandas as pd"
      ]
    },
    {
      "cell_type": "code",
      "source": [
        "#The dataset contains name, artist and lyrics for 57650 songs in English. \n",
        "data = pd.read_csv(\"spotify_millsongdata.csv\")\n",
        "\n",
        "data.head()"
      ],
      "metadata": {
        "id": "DvTI-mPZHGPc",
        "colab": {
          "base_uri": "https://localhost:8080/",
          "height": 337
        },
        "outputId": "e250a558-0d11-417c-b7f5-e1af76723875"
      },
      "execution_count": null,
      "outputs": [
        {
          "output_type": "execute_result",
          "data": {
            "text/plain": [
              "  artist                   song                                        link  \\\n",
              "0   ABBA  Ahe's My Kind Of Girl  /a/abba/ahes+my+kind+of+girl_20598417.html   \n",
              "1   ABBA       Andante, Andante       /a/abba/andante+andante_20002708.html   \n",
              "2   ABBA         As Good As New        /a/abba/as+good+as+new_20003033.html   \n",
              "3   ABBA                   Bang                  /a/abba/bang_20598415.html   \n",
              "4   ABBA       Bang-A-Boomerang      /a/abba/bang+a+boomerang_20002668.html   \n",
              "\n",
              "                                                text  \n",
              "0  Look at her face, it's a wonderful face  \\r\\nA...  \n",
              "1  Take it easy with me, please  \\r\\nTouch me gen...  \n",
              "2  I'll never know why I had to go  \\r\\nWhy I had...  \n",
              "3  Making somebody happy is a question of give an...  \n",
              "4  Making somebody happy is a question of give an...  "
            ],
            "text/html": [
              "\n",
              "  <div id=\"df-271cb6f6-d26a-4d5b-a64e-0466e4ee0f2e\">\n",
              "    <div class=\"colab-df-container\">\n",
              "      <div>\n",
              "<style scoped>\n",
              "    .dataframe tbody tr th:only-of-type {\n",
              "        vertical-align: middle;\n",
              "    }\n",
              "\n",
              "    .dataframe tbody tr th {\n",
              "        vertical-align: top;\n",
              "    }\n",
              "\n",
              "    .dataframe thead th {\n",
              "        text-align: right;\n",
              "    }\n",
              "</style>\n",
              "<table border=\"1\" class=\"dataframe\">\n",
              "  <thead>\n",
              "    <tr style=\"text-align: right;\">\n",
              "      <th></th>\n",
              "      <th>artist</th>\n",
              "      <th>song</th>\n",
              "      <th>link</th>\n",
              "      <th>text</th>\n",
              "    </tr>\n",
              "  </thead>\n",
              "  <tbody>\n",
              "    <tr>\n",
              "      <th>0</th>\n",
              "      <td>ABBA</td>\n",
              "      <td>Ahe's My Kind Of Girl</td>\n",
              "      <td>/a/abba/ahes+my+kind+of+girl_20598417.html</td>\n",
              "      <td>Look at her face, it's a wonderful face  \\r\\nA...</td>\n",
              "    </tr>\n",
              "    <tr>\n",
              "      <th>1</th>\n",
              "      <td>ABBA</td>\n",
              "      <td>Andante, Andante</td>\n",
              "      <td>/a/abba/andante+andante_20002708.html</td>\n",
              "      <td>Take it easy with me, please  \\r\\nTouch me gen...</td>\n",
              "    </tr>\n",
              "    <tr>\n",
              "      <th>2</th>\n",
              "      <td>ABBA</td>\n",
              "      <td>As Good As New</td>\n",
              "      <td>/a/abba/as+good+as+new_20003033.html</td>\n",
              "      <td>I'll never know why I had to go  \\r\\nWhy I had...</td>\n",
              "    </tr>\n",
              "    <tr>\n",
              "      <th>3</th>\n",
              "      <td>ABBA</td>\n",
              "      <td>Bang</td>\n",
              "      <td>/a/abba/bang_20598415.html</td>\n",
              "      <td>Making somebody happy is a question of give an...</td>\n",
              "    </tr>\n",
              "    <tr>\n",
              "      <th>4</th>\n",
              "      <td>ABBA</td>\n",
              "      <td>Bang-A-Boomerang</td>\n",
              "      <td>/a/abba/bang+a+boomerang_20002668.html</td>\n",
              "      <td>Making somebody happy is a question of give an...</td>\n",
              "    </tr>\n",
              "  </tbody>\n",
              "</table>\n",
              "</div>\n",
              "      <button class=\"colab-df-convert\" onclick=\"convertToInteractive('df-271cb6f6-d26a-4d5b-a64e-0466e4ee0f2e')\"\n",
              "              title=\"Convert this dataframe to an interactive table.\"\n",
              "              style=\"display:none;\">\n",
              "        \n",
              "  <svg xmlns=\"http://www.w3.org/2000/svg\" height=\"24px\"viewBox=\"0 0 24 24\"\n",
              "       width=\"24px\">\n",
              "    <path d=\"M0 0h24v24H0V0z\" fill=\"none\"/>\n",
              "    <path d=\"M18.56 5.44l.94 2.06.94-2.06 2.06-.94-2.06-.94-.94-2.06-.94 2.06-2.06.94zm-11 1L8.5 8.5l.94-2.06 2.06-.94-2.06-.94L8.5 2.5l-.94 2.06-2.06.94zm10 10l.94 2.06.94-2.06 2.06-.94-2.06-.94-.94-2.06-.94 2.06-2.06.94z\"/><path d=\"M17.41 7.96l-1.37-1.37c-.4-.4-.92-.59-1.43-.59-.52 0-1.04.2-1.43.59L10.3 9.45l-7.72 7.72c-.78.78-.78 2.05 0 2.83L4 21.41c.39.39.9.59 1.41.59.51 0 1.02-.2 1.41-.59l7.78-7.78 2.81-2.81c.8-.78.8-2.07 0-2.86zM5.41 20L4 18.59l7.72-7.72 1.47 1.35L5.41 20z\"/>\n",
              "  </svg>\n",
              "      </button>\n",
              "      \n",
              "  <style>\n",
              "    .colab-df-container {\n",
              "      display:flex;\n",
              "      flex-wrap:wrap;\n",
              "      gap: 12px;\n",
              "    }\n",
              "\n",
              "    .colab-df-convert {\n",
              "      background-color: #E8F0FE;\n",
              "      border: none;\n",
              "      border-radius: 50%;\n",
              "      cursor: pointer;\n",
              "      display: none;\n",
              "      fill: #1967D2;\n",
              "      height: 32px;\n",
              "      padding: 0 0 0 0;\n",
              "      width: 32px;\n",
              "    }\n",
              "\n",
              "    .colab-df-convert:hover {\n",
              "      background-color: #E2EBFA;\n",
              "      box-shadow: 0px 1px 2px rgba(60, 64, 67, 0.3), 0px 1px 3px 1px rgba(60, 64, 67, 0.15);\n",
              "      fill: #174EA6;\n",
              "    }\n",
              "\n",
              "    [theme=dark] .colab-df-convert {\n",
              "      background-color: #3B4455;\n",
              "      fill: #D2E3FC;\n",
              "    }\n",
              "\n",
              "    [theme=dark] .colab-df-convert:hover {\n",
              "      background-color: #434B5C;\n",
              "      box-shadow: 0px 1px 3px 1px rgba(0, 0, 0, 0.15);\n",
              "      filter: drop-shadow(0px 1px 2px rgba(0, 0, 0, 0.3));\n",
              "      fill: #FFFFFF;\n",
              "    }\n",
              "  </style>\n",
              "\n",
              "      <script>\n",
              "        const buttonEl =\n",
              "          document.querySelector('#df-271cb6f6-d26a-4d5b-a64e-0466e4ee0f2e button.colab-df-convert');\n",
              "        buttonEl.style.display =\n",
              "          google.colab.kernel.accessAllowed ? 'block' : 'none';\n",
              "\n",
              "        async function convertToInteractive(key) {\n",
              "          const element = document.querySelector('#df-271cb6f6-d26a-4d5b-a64e-0466e4ee0f2e');\n",
              "          const dataTable =\n",
              "            await google.colab.kernel.invokeFunction('convertToInteractive',\n",
              "                                                     [key], {});\n",
              "          if (!dataTable) return;\n",
              "\n",
              "          const docLinkHtml = 'Like what you see? Visit the ' +\n",
              "            '<a target=\"_blank\" href=https://colab.research.google.com/notebooks/data_table.ipynb>data table notebook</a>'\n",
              "            + ' to learn more about interactive tables.';\n",
              "          element.innerHTML = '';\n",
              "          dataTable['output_type'] = 'display_data';\n",
              "          await google.colab.output.renderOutput(dataTable, element);\n",
              "          const docLink = document.createElement('div');\n",
              "          docLink.innerHTML = docLinkHtml;\n",
              "          element.appendChild(docLink);\n",
              "        }\n",
              "      </script>\n",
              "    </div>\n",
              "  </div>\n",
              "  "
            ]
          },
          "metadata": {},
          "execution_count": 34
        }
      ]
    },
    {
      "cell_type": "code",
      "source": [
        "#Number of Attributes/ Characteristics = 4\n",
        "data.info()"
      ],
      "metadata": {
        "id": "xcrxhj_c4OCT",
        "colab": {
          "base_uri": "https://localhost:8080/"
        },
        "outputId": "e04ff79d-1f67-463f-e067-15ea2e29303e"
      },
      "execution_count": null,
      "outputs": [
        {
          "output_type": "stream",
          "name": "stdout",
          "text": [
            "<class 'pandas.core.frame.DataFrame'>\n",
            "RangeIndex: 57650 entries, 0 to 57649\n",
            "Data columns (total 4 columns):\n",
            " #   Column  Non-Null Count  Dtype \n",
            "---  ------  --------------  ----- \n",
            " 0   artist  57650 non-null  object\n",
            " 1   song    57650 non-null  object\n",
            " 2   link    57650 non-null  object\n",
            " 3   text    57650 non-null  object\n",
            "dtypes: object(4)\n",
            "memory usage: 1.8+ MB\n"
          ]
        }
      ]
    },
    {
      "cell_type": "code",
      "source": [
        "#The dataset does not contain any missing value. \n",
        "data.isnull().sum()"
      ],
      "metadata": {
        "id": "Hdgx1ltw4SjK",
        "colab": {
          "base_uri": "https://localhost:8080/"
        },
        "outputId": "627fbef1-9dc4-4b4d-828a-f61c23f659be"
      },
      "execution_count": null,
      "outputs": [
        {
          "output_type": "execute_result",
          "data": {
            "text/plain": [
              "artist    0\n",
              "song      0\n",
              "link      0\n",
              "text      0\n",
              "dtype: int64"
            ]
          },
          "metadata": {},
          "execution_count": 36
        }
      ]
    },
    {
      "cell_type": "code",
      "source": [
        "data.shape"
      ],
      "metadata": {
        "id": "IOrsnmbyXTMM",
        "colab": {
          "base_uri": "https://localhost:8080/"
        },
        "outputId": "82218dfa-d4b6-4543-b4c1-3f78449348c5"
      },
      "execution_count": null,
      "outputs": [
        {
          "output_type": "execute_result",
          "data": {
            "text/plain": [
              "(57650, 4)"
            ]
          },
          "metadata": {},
          "execution_count": 37
        }
      ]
    },
    {
      "cell_type": "code",
      "source": [
        "#57650 requires a lot of RAM so let as work with 3000 songs sample\n",
        "data = data.sample(n=3000).reset_index(drop=True)\n",
        "\n",
        "#Remove the \\n and \\r in the 'text' attribute\n",
        "data['text'] = data['text'].str.replace(r'\\n', '', regex=True)\n",
        "data['text'] = data['text'].str.replace(r'\\r', '', regex=True)\n",
        "\n",
        "data"
      ],
      "metadata": {
        "id": "Wba41plk4WbE",
        "colab": {
          "base_uri": "https://localhost:8080/",
          "height": 815
        },
        "outputId": "989a0357-fb48-4824-f692-fc00f3708200"
      },
      "execution_count": null,
      "outputs": [
        {
          "output_type": "execute_result",
          "data": {
            "text/plain": [
              "                  artist                     song  \\\n",
              "0          Stevie Wonder              Golden Lady   \n",
              "1             Gary Numan          Sister Surprise   \n",
              "2           Hooverphonic                    Waves   \n",
              "3     Marianne Faithfull       Southern Butterfly   \n",
              "4            Chuck Berry                Rain Eyes   \n",
              "...                  ...                      ...   \n",
              "2995          Snoop Dogg         Dogg Named Snoop   \n",
              "2996               Sting           I Burn For You   \n",
              "2997     Harry Belafonte          Close Your Eyes   \n",
              "2998      George Michael                  Move On   \n",
              "2999            Don Moen  I Believe There Is More   \n",
              "\n",
              "                                                   link  \\\n",
              "0            /s/stevie+wonder/golden+lady_20131811.html   \n",
              "1           /g/gary+numan/sister+surprise_20058578.html   \n",
              "2                   /h/hooverphonic/waves_10142652.html   \n",
              "3     /m/marianne+faithfull/southern+butterfly_20088...   \n",
              "4                /c/chuck+berry/rain+eyes_20514560.html   \n",
              "...                                                 ...   \n",
              "2995  /s/snoop+dogg/dogg+named+snoop+feat+trey+deee_...   \n",
              "2996              /s/sting/i+burn+for+you_20132029.html   \n",
              "2997   /h/harry+belafonte/close+your+eyes_20170154.html   \n",
              "2998            /g/george+michael/move+on_20059332.html   \n",
              "2999  /d/don+moen/i+believe+there+is+more_20795535.html   \n",
              "\n",
              "                                                   text  \n",
              "0     Looking in your eyes  Kind of heaven eyes  Clo...  \n",
              "1     We are  Walking nostalgia  Like old movies for...  \n",
              "2     These gigantic waves just take me  To an unkno...  \n",
              "3     Where I walk  And life is warm  Sun and breath...  \n",
              "4     Rain eyes that blur the rays of sunshine  When...  \n",
              "...                                                 ...  \n",
              "2995  [Chorus : Tray Deee and Snoop Dogg]  Motherfuc...  \n",
              "2996  Now that I have found you  In the cool'th of y...  \n",
              "2997  Close your eyes  Rest your head on my shoulder...  \n",
              "2998  I've been in and out of favor with lady luck  ...  \n",
              "2999  You have been good to me  You have been good t...  \n",
              "\n",
              "[3000 rows x 4 columns]"
            ],
            "text/html": [
              "\n",
              "  <div id=\"df-a78135f9-ebaf-4177-8a6b-f93f0f2a121d\">\n",
              "    <div class=\"colab-df-container\">\n",
              "      <div>\n",
              "<style scoped>\n",
              "    .dataframe tbody tr th:only-of-type {\n",
              "        vertical-align: middle;\n",
              "    }\n",
              "\n",
              "    .dataframe tbody tr th {\n",
              "        vertical-align: top;\n",
              "    }\n",
              "\n",
              "    .dataframe thead th {\n",
              "        text-align: right;\n",
              "    }\n",
              "</style>\n",
              "<table border=\"1\" class=\"dataframe\">\n",
              "  <thead>\n",
              "    <tr style=\"text-align: right;\">\n",
              "      <th></th>\n",
              "      <th>artist</th>\n",
              "      <th>song</th>\n",
              "      <th>link</th>\n",
              "      <th>text</th>\n",
              "    </tr>\n",
              "  </thead>\n",
              "  <tbody>\n",
              "    <tr>\n",
              "      <th>0</th>\n",
              "      <td>Stevie Wonder</td>\n",
              "      <td>Golden Lady</td>\n",
              "      <td>/s/stevie+wonder/golden+lady_20131811.html</td>\n",
              "      <td>Looking in your eyes  Kind of heaven eyes  Clo...</td>\n",
              "    </tr>\n",
              "    <tr>\n",
              "      <th>1</th>\n",
              "      <td>Gary Numan</td>\n",
              "      <td>Sister Surprise</td>\n",
              "      <td>/g/gary+numan/sister+surprise_20058578.html</td>\n",
              "      <td>We are  Walking nostalgia  Like old movies for...</td>\n",
              "    </tr>\n",
              "    <tr>\n",
              "      <th>2</th>\n",
              "      <td>Hooverphonic</td>\n",
              "      <td>Waves</td>\n",
              "      <td>/h/hooverphonic/waves_10142652.html</td>\n",
              "      <td>These gigantic waves just take me  To an unkno...</td>\n",
              "    </tr>\n",
              "    <tr>\n",
              "      <th>3</th>\n",
              "      <td>Marianne Faithfull</td>\n",
              "      <td>Southern Butterfly</td>\n",
              "      <td>/m/marianne+faithfull/southern+butterfly_20088...</td>\n",
              "      <td>Where I walk  And life is warm  Sun and breath...</td>\n",
              "    </tr>\n",
              "    <tr>\n",
              "      <th>4</th>\n",
              "      <td>Chuck Berry</td>\n",
              "      <td>Rain Eyes</td>\n",
              "      <td>/c/chuck+berry/rain+eyes_20514560.html</td>\n",
              "      <td>Rain eyes that blur the rays of sunshine  When...</td>\n",
              "    </tr>\n",
              "    <tr>\n",
              "      <th>...</th>\n",
              "      <td>...</td>\n",
              "      <td>...</td>\n",
              "      <td>...</td>\n",
              "      <td>...</td>\n",
              "    </tr>\n",
              "    <tr>\n",
              "      <th>2995</th>\n",
              "      <td>Snoop Dogg</td>\n",
              "      <td>Dogg Named Snoop</td>\n",
              "      <td>/s/snoop+dogg/dogg+named+snoop+feat+trey+deee_...</td>\n",
              "      <td>[Chorus : Tray Deee and Snoop Dogg]  Motherfuc...</td>\n",
              "    </tr>\n",
              "    <tr>\n",
              "      <th>2996</th>\n",
              "      <td>Sting</td>\n",
              "      <td>I Burn For You</td>\n",
              "      <td>/s/sting/i+burn+for+you_20132029.html</td>\n",
              "      <td>Now that I have found you  In the cool'th of y...</td>\n",
              "    </tr>\n",
              "    <tr>\n",
              "      <th>2997</th>\n",
              "      <td>Harry Belafonte</td>\n",
              "      <td>Close Your Eyes</td>\n",
              "      <td>/h/harry+belafonte/close+your+eyes_20170154.html</td>\n",
              "      <td>Close your eyes  Rest your head on my shoulder...</td>\n",
              "    </tr>\n",
              "    <tr>\n",
              "      <th>2998</th>\n",
              "      <td>George Michael</td>\n",
              "      <td>Move On</td>\n",
              "      <td>/g/george+michael/move+on_20059332.html</td>\n",
              "      <td>I've been in and out of favor with lady luck  ...</td>\n",
              "    </tr>\n",
              "    <tr>\n",
              "      <th>2999</th>\n",
              "      <td>Don Moen</td>\n",
              "      <td>I Believe There Is More</td>\n",
              "      <td>/d/don+moen/i+believe+there+is+more_20795535.html</td>\n",
              "      <td>You have been good to me  You have been good t...</td>\n",
              "    </tr>\n",
              "  </tbody>\n",
              "</table>\n",
              "<p>3000 rows × 4 columns</p>\n",
              "</div>\n",
              "      <button class=\"colab-df-convert\" onclick=\"convertToInteractive('df-a78135f9-ebaf-4177-8a6b-f93f0f2a121d')\"\n",
              "              title=\"Convert this dataframe to an interactive table.\"\n",
              "              style=\"display:none;\">\n",
              "        \n",
              "  <svg xmlns=\"http://www.w3.org/2000/svg\" height=\"24px\"viewBox=\"0 0 24 24\"\n",
              "       width=\"24px\">\n",
              "    <path d=\"M0 0h24v24H0V0z\" fill=\"none\"/>\n",
              "    <path d=\"M18.56 5.44l.94 2.06.94-2.06 2.06-.94-2.06-.94-.94-2.06-.94 2.06-2.06.94zm-11 1L8.5 8.5l.94-2.06 2.06-.94-2.06-.94L8.5 2.5l-.94 2.06-2.06.94zm10 10l.94 2.06.94-2.06 2.06-.94-2.06-.94-.94-2.06-.94 2.06-2.06.94z\"/><path d=\"M17.41 7.96l-1.37-1.37c-.4-.4-.92-.59-1.43-.59-.52 0-1.04.2-1.43.59L10.3 9.45l-7.72 7.72c-.78.78-.78 2.05 0 2.83L4 21.41c.39.39.9.59 1.41.59.51 0 1.02-.2 1.41-.59l7.78-7.78 2.81-2.81c.8-.78.8-2.07 0-2.86zM5.41 20L4 18.59l7.72-7.72 1.47 1.35L5.41 20z\"/>\n",
              "  </svg>\n",
              "      </button>\n",
              "      \n",
              "  <style>\n",
              "    .colab-df-container {\n",
              "      display:flex;\n",
              "      flex-wrap:wrap;\n",
              "      gap: 12px;\n",
              "    }\n",
              "\n",
              "    .colab-df-convert {\n",
              "      background-color: #E8F0FE;\n",
              "      border: none;\n",
              "      border-radius: 50%;\n",
              "      cursor: pointer;\n",
              "      display: none;\n",
              "      fill: #1967D2;\n",
              "      height: 32px;\n",
              "      padding: 0 0 0 0;\n",
              "      width: 32px;\n",
              "    }\n",
              "\n",
              "    .colab-df-convert:hover {\n",
              "      background-color: #E2EBFA;\n",
              "      box-shadow: 0px 1px 2px rgba(60, 64, 67, 0.3), 0px 1px 3px 1px rgba(60, 64, 67, 0.15);\n",
              "      fill: #174EA6;\n",
              "    }\n",
              "\n",
              "    [theme=dark] .colab-df-convert {\n",
              "      background-color: #3B4455;\n",
              "      fill: #D2E3FC;\n",
              "    }\n",
              "\n",
              "    [theme=dark] .colab-df-convert:hover {\n",
              "      background-color: #434B5C;\n",
              "      box-shadow: 0px 1px 3px 1px rgba(0, 0, 0, 0.15);\n",
              "      filter: drop-shadow(0px 1px 2px rgba(0, 0, 0, 0.3));\n",
              "      fill: #FFFFFF;\n",
              "    }\n",
              "  </style>\n",
              "\n",
              "      <script>\n",
              "        const buttonEl =\n",
              "          document.querySelector('#df-a78135f9-ebaf-4177-8a6b-f93f0f2a121d button.colab-df-convert');\n",
              "        buttonEl.style.display =\n",
              "          google.colab.kernel.accessAllowed ? 'block' : 'none';\n",
              "\n",
              "        async function convertToInteractive(key) {\n",
              "          const element = document.querySelector('#df-a78135f9-ebaf-4177-8a6b-f93f0f2a121d');\n",
              "          const dataTable =\n",
              "            await google.colab.kernel.invokeFunction('convertToInteractive',\n",
              "                                                     [key], {});\n",
              "          if (!dataTable) return;\n",
              "\n",
              "          const docLinkHtml = 'Like what you see? Visit the ' +\n",
              "            '<a target=\"_blank\" href=https://colab.research.google.com/notebooks/data_table.ipynb>data table notebook</a>'\n",
              "            + ' to learn more about interactive tables.';\n",
              "          element.innerHTML = '';\n",
              "          dataTable['output_type'] = 'display_data';\n",
              "          await google.colab.output.renderOutput(dataTable, element);\n",
              "          const docLink = document.createElement('div');\n",
              "          docLink.innerHTML = docLinkHtml;\n",
              "          element.appendChild(docLink);\n",
              "        }\n",
              "      </script>\n",
              "    </div>\n",
              "  </div>\n",
              "  "
            ]
          },
          "metadata": {},
          "execution_count": 38
        }
      ]
    },
    {
      "cell_type": "markdown",
      "source": [
        "### **TF-IDF a technique used for information retrieval.**\n",
        "\n",
        "***Algorithm:***\n",
        "1.   Find the score for TF and IDF for each term in the document\n",
        "2.   Product of TF and IDF\n",
        "3.   Product is the TF-IDF weight of that term"
      ],
      "metadata": {
        "id": "Ulpdr9LZ4oix"
      }
    },
    {
      "cell_type": "code",
      "source": [
        "#Using TF-IDF vectorizerthat calculates the TF-IDF score for each \n",
        "#song lyric, word-by-word\n",
        "from sklearn.feature_extraction.text import TfidfVectorizer\n",
        "\n",
        "tfidf = TfidfVectorizer(analyzer='word', stop_words='english')"
      ],
      "metadata": {
        "id": "8J7ODuYY4siV"
      },
      "execution_count": null,
      "outputs": []
    },
    {
      "cell_type": "code",
      "execution_count": null,
      "metadata": {
        "id": "VUplMsbry2CM"
      },
      "outputs": [],
      "source": [
        "#Lyric Matrix containing each word with its TF_IDF score\n",
        "lyrics_matrix = tfidf.fit_transform(data['text'])"
      ]
    },
    {
      "cell_type": "code",
      "source": [
        "from sklearn.metrics.pairwise import cosine_similarity\n",
        "\n",
        "# Calculate cosine similarity of each item with every other item in the dataset\n",
        "cosineMatrix = cosine_similarity(lyrics_matrix) "
      ],
      "metadata": {
        "id": "toXGae_M5ghD"
      },
      "execution_count": null,
      "outputs": []
    },
    {
      "cell_type": "code",
      "source": [
        "#50 similar songs dataset\n",
        "similarities = {}"
      ],
      "metadata": {
        "id": "d8GVsS2k5mCs"
      },
      "execution_count": null,
      "outputs": []
    },
    {
      "cell_type": "code",
      "execution_count": null,
      "metadata": {
        "id": "L8Mjt4zky2CO"
      },
      "outputs": [],
      "source": [
        "for i in range(len(cosineMatrix)):\n",
        "\n",
        "    #Sort in ascending order for each element in cosineMatrix and \n",
        "    #get the last 50 indexes of the songs (most similar)\n",
        "    similarIndices = cosineMatrix[i].argsort()[:-50:-1] \n",
        "\n",
        "    #For each song we store the amost 50 similar songs (excluding itself \n",
        "    #thus [1:]) with the details:\n",
        "    #1. Value of the Cosine Matrix \n",
        "    #2. Name of the Song\n",
        "    #3. Name of the Artist\n",
        "    #4. Link of the Song\n",
        "    similarities[data['song'].iloc[i]] = [(cosineMatrix[i][x], data['song'][x], data['artist'][x], data['link'][x]) for x in similarIndices][1:]"
      ]
    },
    {
      "cell_type": "code",
      "execution_count": null,
      "metadata": {
        "id": "u6nj6XcDy2CP"
      },
      "outputs": [],
      "source": [
        "class ContentBasedRecommender:\n",
        "  #Parameterized Constructor\n",
        "  def __init__(self, matrix):\n",
        "    self.similarMatrix = matrix\n",
        "\n",
        "  def _print_message(self, song, recomSong, recomNumber):\n",
        "    print(f'The {recomNumber} recommended songs for \\\"{song}\\\" are:\\n')\n",
        "    \n",
        "    for i in range(recomNumber):\n",
        "      print(f\"Song {i+1}: {recomSong[i][1]}\")\n",
        "      print(f\"Artist: {recomSong[i][2]}\")\n",
        "      print(f\"Link: {recomSong[i][3]}\")\n",
        "      print(f\"Similarity Score: {round(recomSong[i][0], 3)}\")\n",
        "      print(\"--------------------\\n\")\n",
        "\n",
        "  def recommend(self, recommendation):\n",
        "    #Retrieving the Name of Song\n",
        "    songName = recommendation['songName']\n",
        "\n",
        "    #Number of recommend song\n",
        "    numberSongs = recommendation['numberSongs']\n",
        "\n",
        "    #Get the number of required similar songs from 'similarities' dataset\n",
        "    recomendedSongs = self.similarMatrix[songName][:numberSongs]\n",
        "    \n",
        "    # print each item\n",
        "    self._print_message(songName, recomendedSongs, numberSongs)"
      ]
    },
    {
      "cell_type": "code",
      "execution_count": null,
      "metadata": {
        "id": "hCLOyPrOy2CP"
      },
      "outputs": [],
      "source": [
        "##Initiate Class\n",
        "recommedations = ContentBasedRecommender(similarities)"
      ]
    },
    {
      "cell_type": "code",
      "source": [
        "import matplotlib.pyplot as plt\n",
        "import seaborn as sns"
      ],
      "metadata": {
        "id": "OiPOdJiymqmS"
      },
      "execution_count": null,
      "outputs": []
    },
    {
      "cell_type": "code",
      "source": [
        "def create_heatmap(similarity, cmap = \"YlGnBu\"):\n",
        "  df = pd.DataFrame(similarity)\n",
        "  df.columns = data[:10]['song']\n",
        "  df.index = data[:10]['song']\n",
        "  fig, ax = plt.subplots(figsize=(5,5))\n",
        "  sns.heatmap(df, cmap=cmap)"
      ],
      "metadata": {
        "id": "1bSEtbxNmsf9"
      },
      "execution_count": null,
      "outputs": []
    },
    {
      "cell_type": "code",
      "source": [
        "create_heatmap(similarity=cosineMatrix[:10, :10])"
      ],
      "metadata": {
        "id": "4qImGUYRm5sq",
        "colab": {
          "base_uri": "https://localhost:8080/",
          "height": 442
        },
        "outputId": "2423859c-7e67-445c-ada8-ac3e8549beba"
      },
      "execution_count": null,
      "outputs": [
        {
          "output_type": "display_data",
          "data": {
            "text/plain": [
              "<Figure size 360x360 with 2 Axes>"
            ],
            "image/png": "[encoded data removed]"
          },
          "metadata": {
            "needs_background": "light"
          }
        }
      ]
    },
    {
      "cell_type": "code",
      "source": [
        "songs_list = data['song'].tolist()\n",
        "songs_list[:5]"
      ],
      "metadata": {
        "colab": {
          "base_uri": "https://localhost:8080/"
        },
        "id": "3AN9voYTCJZR",
        "outputId": "ec682f17-bbf0-40f6-d1c7-f4d5ae0022e6"
      },
      "execution_count": null,
      "outputs": [
        {
          "output_type": "execute_result",
          "data": {
            "text/plain": [
              "['Golden Lady', 'Sister Surprise', 'Waves', 'Southern Butterfly', 'Rain Eyes']"
            ]
          },
          "metadata": {},
          "execution_count": 52
        }
      ]
    },
    {
      "cell_type": "code",
      "source": [
        "name = input(\"Enter your Song Name: \")\n",
        "num = int(input(\"Number of Recommended Songs: \"))"
      ],
      "metadata": {
        "id": "fCp-VaxUn6hM",
        "colab": {
          "base_uri": "https://localhost:8080/"
        },
        "outputId": "122f3b97-8304-475a-d1f4-ba265eb05d47"
      },
      "execution_count": null,
      "outputs": [
        {
          "name": "stdout",
          "output_type": "stream",
          "text": [
            "Enter your Song Name: Golden Lady\n",
            "Number of Recommended Songs: 3\n"
          ]
        }
      ]
    },
    {
      "cell_type": "code",
      "execution_count": null,
      "metadata": {
        "id": "3b55MNWOy2CQ",
        "colab": {
          "base_uri": "https://localhost:8080/"
        },
        "outputId": "cbec4483-7314-450b-d417-61d9b69fdd87"
      },
      "outputs": [
        {
          "output_type": "stream",
          "name": "stdout",
          "text": [
            "The 3 recommended songs for \"Golden Lady\" are:\n",
            "\n",
            "Song 1: Lady Luck\n",
            "Artist: Deep Purple\n",
            "Link: /d/deep+purple/lady+luck_20038724.html\n",
            "Similarity Score: 0.372\n",
            "--------------------\n",
            "\n",
            "Song 2: Baby Lady\n",
            "Artist: Justin Bieber\n",
            "Link: /j/justin+bieber/baby+lady_20467491.html\n",
            "Similarity Score: 0.28\n",
            "--------------------\n",
            "\n",
            "Song 3: Golden Boy\n",
            "Artist: Bob Seger\n",
            "Link: /b/bob+seger/golden+boy_20021936.html\n",
            "Similarity Score: 0.264\n",
            "--------------------\n",
            "\n"
          ]
        }
      ],
      "source": [
        "recommendation = {\n",
        "    \"songName\": name,\n",
        "    \"numberSongs\": num\n",
        "}\n",
        "\n",
        "recommedations.recommend(recommendation)"
      ]
    }
  ],
  "metadata": {
    "kernelspec": {
      "display_name": "Python 3",
      "language": "python",
      "name": "python3"
    },
    "language_info": {
      "codemirror_mode": {
        "name": "ipython",
        "version": 3
      },
      "file_extension": ".py",
      "mimetype": "text/x-python",
      "name": "python",
      "nbconvert_exporter": "python",
      "pygments_lexer": "ipython3",
      "version": "3.6.6"
    },
    "colab": {
      "provenance": [],
      "include_colab_link": true
    }
  },
  "nbformat": 4,
  "nbformat_minor": 0
}